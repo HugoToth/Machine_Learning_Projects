{
 "cells": [
  {
   "cell_type": "markdown",
   "metadata": {
    "id": "Rpio-nMAoDwq"
   },
   "source": [
    "<div class=\"alert alert-block\" style=\"color: green\">\n",
    "    <h1><center> SUPERVISED LEARNING  </center></h1>"
   ]
  },
  {
   "cell_type": "markdown",
   "metadata": {},
   "source": [
    "#### Name: Hugo Toth\n",
    "#### E-mail: hu41go@gmail.com"
   ]
  },
  {
   "cell_type": "markdown",
   "metadata": {
    "id": "90c9fF6woDwr"
   },
   "source": [
    "<i>Machine learning</i> is a subfield of artificial intelligence that provides automatic, objective and data-driven techniques for modeling the data. Its two main branches are <i>supervised learning</i> and <i>unsupervised learning</i>, and in this exercise, we are going to use the former, <font color = green>supervised learning</font>, for classification and regression tasks.\n",
    "\n",
    "The aim of this project is to answer questions like:\n",
    "\n",
    "- What kind of model architecture best fits our data?\n",
    "- How well does the model perform technically?\n",
    "- Could we improve its performance?\n",
    "- How do we evaluate the model's performance?\n",
    "\n",
    "For classification, the dataset contains comprehensive health information from hospital patients with and without cardiovascular disease. The target variable \"cardio,\" reflects the presence or absence of the disease, which is characterized by a buildup of fatty deposits inside the arteries (blood vessels) of the heart. Some data pre-processing steps are required to ensure that it's in an appropriate format so that models can learn from it.\n",
    "\n",
    "--------------\n",
    "The data has the following columns/attributes:\n",
    "\n",
    "| Feature | Type | Explanation |\n",
    "| :- | :- | :-\n",
    "| age | numeric | The age of the patient in years \n",
    "| sex | binary | Female == 0, Male == 1\n",
    "| height | numeric | Measured height of the patient (cm)\n",
    "| weight | numeric | Measured weight of the patient (kg)\n",
    "| ap_hi | numeric | Measured Systolic blood pressure\n",
    "| ap_lo | numeric | Measured Diastolic blood pressure\n",
    "| smoke | binary | A subjective feature based on asking the patient whether or not he/she smokes\n",
    "| alco | binary | A subjective feature based on asking the patient whether or not he/she consumes alcohol\n",
    "| active | binary |  A subjective feature based on asking the patient whether or not he/she exercises regularly\n",
    "| cholesterol | categorical | Cholesterol associated risk information evaluated by a doctor\n",
    "| gluc | categorical | Glucose associated risk information evaluated by a doctor"
   ]
  },
  {
   "cell_type": "markdown",
   "metadata": {
    "id": "2I2WLapM3BPc"
   },
   "source": [
    "### <font color = red> Packages needed for this exercise: </font>"
   ]
  },
  {
   "cell_type": "code",
   "execution_count": 1,
   "metadata": {
    "id": "iypIAVquoDws"
   },
   "outputs": [],
   "source": [
    "import numpy as np\n",
    "import pandas as pd\n",
    "\n",
    "# Visualization packages - matplotlib and seaborn\n",
    "import seaborn as sns\n",
    "import matplotlib.pyplot as plt\n",
    "\n",
    "# Machine learning package - scikit-learn\n",
    "from sklearn import metrics\n",
    "from sklearn.preprocessing import StandardScaler\n",
    "from sklearn.model_selection import train_test_split, cross_val_score, LeaveOneOut, GridSearchCV\n",
    "from sklearn.neighbors import KNeighborsClassifier\n",
    "from sklearn.linear_model import Ridge\n",
    "\n",
    "# Show the plots inline in the notebook\n",
    "%matplotlib inline"
   ]
  },
  {
   "cell_type": "markdown",
   "metadata": {},
   "source": [
    "______________\n",
    "## <font color = lightcoral>1. Classification using k-nearest neighbors </font> "
   ]
  },
  {
   "cell_type": "markdown",
   "metadata": {
    "id": "7CqWZYx2oDw3"
   },
   "source": [
    "We start exploring the world of data modeling by using the <font color = lightcoral>K-Nearest Neightbors (k-NN) algorithm</font>. The k-NN algorithm is a supervised machine learning technique based on the assumption that data points with similar features tend to belong to the same class, and thus are likely to be near each other in feature space.\n",
    "\n",
    "In our case, we'll use the k-NN algorithm to *predict the presence of cardiovascular disease* (CVD) using all the other variables as <font color = lightcoral>features</font> in the given data set. I.e. the <font color = lightcoral>target variable</font> that we are interested in is `cardio`.\n",
    "\n",
    "But first, we need to load the data for the project.\n",
    "\n",
    "Then, we will take a random sample of 1000 rows from the dataframe using a fixed random seed and print the first 15 rows to check that everything is ok with the dataframe."
   ]
  },
  {
   "cell_type": "code",
   "execution_count": 2,
   "metadata": {},
   "outputs": [],
   "source": [
    "### Loading code provided\n",
    "\n",
    "# Path for the data\n",
    "data_path = 'cardio_data.csv'\n",
    "\n",
    "# Read the CSV file \n",
    "cardio_data = pd.read_csv(data_path)"
   ]
  },
  {
   "cell_type": "code",
   "execution_count": 3,
   "metadata": {},
   "outputs": [
    {
     "data": {
      "text/html": [
       "<div>\n",
       "<style scoped>\n",
       "    .dataframe tbody tr th:only-of-type {\n",
       "        vertical-align: middle;\n",
       "    }\n",
       "\n",
       "    .dataframe tbody tr th {\n",
       "        vertical-align: top;\n",
       "    }\n",
       "\n",
       "    .dataframe thead th {\n",
       "        text-align: right;\n",
       "    }\n",
       "</style>\n",
       "<table border=\"1\" class=\"dataframe\">\n",
       "  <thead>\n",
       "    <tr style=\"text-align: right;\">\n",
       "      <th></th>\n",
       "      <th>age</th>\n",
       "      <th>sex</th>\n",
       "      <th>height</th>\n",
       "      <th>weight</th>\n",
       "      <th>ap_hi</th>\n",
       "      <th>ap_lo</th>\n",
       "      <th>smoke</th>\n",
       "      <th>alco</th>\n",
       "      <th>active</th>\n",
       "      <th>cardio</th>\n",
       "      <th>cholesterol_normal</th>\n",
       "      <th>cholesterol_at_risk</th>\n",
       "      <th>cholesterol_elevated</th>\n",
       "      <th>gluc_normal</th>\n",
       "      <th>gluc_at_risk</th>\n",
       "      <th>gluc_elevated</th>\n",
       "    </tr>\n",
       "  </thead>\n",
       "  <tbody>\n",
       "    <tr>\n",
       "      <th>0</th>\n",
       "      <td>53</td>\n",
       "      <td>1</td>\n",
       "      <td>180</td>\n",
       "      <td>75.0</td>\n",
       "      <td>110</td>\n",
       "      <td>70</td>\n",
       "      <td>0</td>\n",
       "      <td>1</td>\n",
       "      <td>1</td>\n",
       "      <td>0</td>\n",
       "      <td>1</td>\n",
       "      <td>0</td>\n",
       "      <td>0</td>\n",
       "      <td>1</td>\n",
       "      <td>0</td>\n",
       "      <td>0</td>\n",
       "    </tr>\n",
       "    <tr>\n",
       "      <th>1</th>\n",
       "      <td>42</td>\n",
       "      <td>1</td>\n",
       "      <td>168</td>\n",
       "      <td>70.0</td>\n",
       "      <td>110</td>\n",
       "      <td>70</td>\n",
       "      <td>1</td>\n",
       "      <td>0</td>\n",
       "      <td>1</td>\n",
       "      <td>0</td>\n",
       "      <td>1</td>\n",
       "      <td>0</td>\n",
       "      <td>0</td>\n",
       "      <td>1</td>\n",
       "      <td>0</td>\n",
       "      <td>0</td>\n",
       "    </tr>\n",
       "    <tr>\n",
       "      <th>2</th>\n",
       "      <td>41</td>\n",
       "      <td>1</td>\n",
       "      <td>162</td>\n",
       "      <td>75.0</td>\n",
       "      <td>112</td>\n",
       "      <td>80</td>\n",
       "      <td>0</td>\n",
       "      <td>0</td>\n",
       "      <td>1</td>\n",
       "      <td>0</td>\n",
       "      <td>1</td>\n",
       "      <td>0</td>\n",
       "      <td>0</td>\n",
       "      <td>1</td>\n",
       "      <td>0</td>\n",
       "      <td>0</td>\n",
       "    </tr>\n",
       "    <tr>\n",
       "      <th>3</th>\n",
       "      <td>45</td>\n",
       "      <td>0</td>\n",
       "      <td>153</td>\n",
       "      <td>76.0</td>\n",
       "      <td>110</td>\n",
       "      <td>70</td>\n",
       "      <td>0</td>\n",
       "      <td>0</td>\n",
       "      <td>1</td>\n",
       "      <td>0</td>\n",
       "      <td>1</td>\n",
       "      <td>0</td>\n",
       "      <td>0</td>\n",
       "      <td>1</td>\n",
       "      <td>0</td>\n",
       "      <td>0</td>\n",
       "    </tr>\n",
       "    <tr>\n",
       "      <th>4</th>\n",
       "      <td>45</td>\n",
       "      <td>0</td>\n",
       "      <td>167</td>\n",
       "      <td>80.0</td>\n",
       "      <td>140</td>\n",
       "      <td>90</td>\n",
       "      <td>0</td>\n",
       "      <td>0</td>\n",
       "      <td>1</td>\n",
       "      <td>1</td>\n",
       "      <td>1</td>\n",
       "      <td>0</td>\n",
       "      <td>0</td>\n",
       "      <td>1</td>\n",
       "      <td>0</td>\n",
       "      <td>0</td>\n",
       "    </tr>\n",
       "    <tr>\n",
       "      <th>5</th>\n",
       "      <td>42</td>\n",
       "      <td>1</td>\n",
       "      <td>189</td>\n",
       "      <td>107.0</td>\n",
       "      <td>140</td>\n",
       "      <td>90</td>\n",
       "      <td>0</td>\n",
       "      <td>0</td>\n",
       "      <td>1</td>\n",
       "      <td>0</td>\n",
       "      <td>1</td>\n",
       "      <td>0</td>\n",
       "      <td>0</td>\n",
       "      <td>0</td>\n",
       "      <td>0</td>\n",
       "      <td>1</td>\n",
       "    </tr>\n",
       "    <tr>\n",
       "      <th>6</th>\n",
       "      <td>58</td>\n",
       "      <td>0</td>\n",
       "      <td>156</td>\n",
       "      <td>66.0</td>\n",
       "      <td>150</td>\n",
       "      <td>90</td>\n",
       "      <td>0</td>\n",
       "      <td>0</td>\n",
       "      <td>1</td>\n",
       "      <td>1</td>\n",
       "      <td>1</td>\n",
       "      <td>0</td>\n",
       "      <td>0</td>\n",
       "      <td>1</td>\n",
       "      <td>0</td>\n",
       "      <td>0</td>\n",
       "    </tr>\n",
       "    <tr>\n",
       "      <th>7</th>\n",
       "      <td>45</td>\n",
       "      <td>0</td>\n",
       "      <td>164</td>\n",
       "      <td>97.0</td>\n",
       "      <td>150</td>\n",
       "      <td>90</td>\n",
       "      <td>0</td>\n",
       "      <td>0</td>\n",
       "      <td>1</td>\n",
       "      <td>1</td>\n",
       "      <td>1</td>\n",
       "      <td>0</td>\n",
       "      <td>0</td>\n",
       "      <td>1</td>\n",
       "      <td>0</td>\n",
       "      <td>0</td>\n",
       "    </tr>\n",
       "    <tr>\n",
       "      <th>8</th>\n",
       "      <td>46</td>\n",
       "      <td>1</td>\n",
       "      <td>165</td>\n",
       "      <td>58.0</td>\n",
       "      <td>90</td>\n",
       "      <td>60</td>\n",
       "      <td>0</td>\n",
       "      <td>0</td>\n",
       "      <td>1</td>\n",
       "      <td>0</td>\n",
       "      <td>1</td>\n",
       "      <td>0</td>\n",
       "      <td>0</td>\n",
       "      <td>1</td>\n",
       "      <td>0</td>\n",
       "      <td>0</td>\n",
       "    </tr>\n",
       "    <tr>\n",
       "      <th>9</th>\n",
       "      <td>55</td>\n",
       "      <td>0</td>\n",
       "      <td>159</td>\n",
       "      <td>77.0</td>\n",
       "      <td>130</td>\n",
       "      <td>80</td>\n",
       "      <td>0</td>\n",
       "      <td>0</td>\n",
       "      <td>0</td>\n",
       "      <td>1</td>\n",
       "      <td>1</td>\n",
       "      <td>0</td>\n",
       "      <td>0</td>\n",
       "      <td>1</td>\n",
       "      <td>0</td>\n",
       "      <td>0</td>\n",
       "    </tr>\n",
       "    <tr>\n",
       "      <th>10</th>\n",
       "      <td>54</td>\n",
       "      <td>1</td>\n",
       "      <td>160</td>\n",
       "      <td>52.0</td>\n",
       "      <td>120</td>\n",
       "      <td>80</td>\n",
       "      <td>0</td>\n",
       "      <td>0</td>\n",
       "      <td>0</td>\n",
       "      <td>0</td>\n",
       "      <td>1</td>\n",
       "      <td>0</td>\n",
       "      <td>0</td>\n",
       "      <td>1</td>\n",
       "      <td>0</td>\n",
       "      <td>0</td>\n",
       "    </tr>\n",
       "    <tr>\n",
       "      <th>11</th>\n",
       "      <td>46</td>\n",
       "      <td>0</td>\n",
       "      <td>154</td>\n",
       "      <td>90.0</td>\n",
       "      <td>130</td>\n",
       "      <td>80</td>\n",
       "      <td>0</td>\n",
       "      <td>0</td>\n",
       "      <td>1</td>\n",
       "      <td>1</td>\n",
       "      <td>0</td>\n",
       "      <td>1</td>\n",
       "      <td>0</td>\n",
       "      <td>1</td>\n",
       "      <td>0</td>\n",
       "      <td>0</td>\n",
       "    </tr>\n",
       "    <tr>\n",
       "      <th>12</th>\n",
       "      <td>53</td>\n",
       "      <td>0</td>\n",
       "      <td>160</td>\n",
       "      <td>64.0</td>\n",
       "      <td>140</td>\n",
       "      <td>90</td>\n",
       "      <td>0</td>\n",
       "      <td>0</td>\n",
       "      <td>1</td>\n",
       "      <td>1</td>\n",
       "      <td>0</td>\n",
       "      <td>1</td>\n",
       "      <td>0</td>\n",
       "      <td>0</td>\n",
       "      <td>1</td>\n",
       "      <td>0</td>\n",
       "    </tr>\n",
       "    <tr>\n",
       "      <th>13</th>\n",
       "      <td>47</td>\n",
       "      <td>1</td>\n",
       "      <td>178</td>\n",
       "      <td>78.0</td>\n",
       "      <td>120</td>\n",
       "      <td>80</td>\n",
       "      <td>0</td>\n",
       "      <td>0</td>\n",
       "      <td>1</td>\n",
       "      <td>1</td>\n",
       "      <td>1</td>\n",
       "      <td>0</td>\n",
       "      <td>0</td>\n",
       "      <td>1</td>\n",
       "      <td>0</td>\n",
       "      <td>0</td>\n",
       "    </tr>\n",
       "    <tr>\n",
       "      <th>14</th>\n",
       "      <td>46</td>\n",
       "      <td>0</td>\n",
       "      <td>160</td>\n",
       "      <td>80.0</td>\n",
       "      <td>120</td>\n",
       "      <td>80</td>\n",
       "      <td>0</td>\n",
       "      <td>1</td>\n",
       "      <td>1</td>\n",
       "      <td>0</td>\n",
       "      <td>1</td>\n",
       "      <td>0</td>\n",
       "      <td>0</td>\n",
       "      <td>1</td>\n",
       "      <td>0</td>\n",
       "      <td>0</td>\n",
       "    </tr>\n",
       "  </tbody>\n",
       "</table>\n",
       "</div>"
      ],
      "text/plain": [
       "    age  sex  height  weight  ap_hi  ap_lo  smoke  alco  active  cardio  \\\n",
       "0    53    1     180    75.0    110     70      0     1       1       0   \n",
       "1    42    1     168    70.0    110     70      1     0       1       0   \n",
       "2    41    1     162    75.0    112     80      0     0       1       0   \n",
       "3    45    0     153    76.0    110     70      0     0       1       0   \n",
       "4    45    0     167    80.0    140     90      0     0       1       1   \n",
       "5    42    1     189   107.0    140     90      0     0       1       0   \n",
       "6    58    0     156    66.0    150     90      0     0       1       1   \n",
       "7    45    0     164    97.0    150     90      0     0       1       1   \n",
       "8    46    1     165    58.0     90     60      0     0       1       0   \n",
       "9    55    0     159    77.0    130     80      0     0       0       1   \n",
       "10   54    1     160    52.0    120     80      0     0       0       0   \n",
       "11   46    0     154    90.0    130     80      0     0       1       1   \n",
       "12   53    0     160    64.0    140     90      0     0       1       1   \n",
       "13   47    1     178    78.0    120     80      0     0       1       1   \n",
       "14   46    0     160    80.0    120     80      0     1       1       0   \n",
       "\n",
       "    cholesterol_normal  cholesterol_at_risk  cholesterol_elevated  \\\n",
       "0                    1                    0                     0   \n",
       "1                    1                    0                     0   \n",
       "2                    1                    0                     0   \n",
       "3                    1                    0                     0   \n",
       "4                    1                    0                     0   \n",
       "5                    1                    0                     0   \n",
       "6                    1                    0                     0   \n",
       "7                    1                    0                     0   \n",
       "8                    1                    0                     0   \n",
       "9                    1                    0                     0   \n",
       "10                   1                    0                     0   \n",
       "11                   0                    1                     0   \n",
       "12                   0                    1                     0   \n",
       "13                   1                    0                     0   \n",
       "14                   1                    0                     0   \n",
       "\n",
       "    gluc_normal  gluc_at_risk  gluc_elevated  \n",
       "0             1             0              0  \n",
       "1             1             0              0  \n",
       "2             1             0              0  \n",
       "3             1             0              0  \n",
       "4             1             0              0  \n",
       "5             0             0              1  \n",
       "6             1             0              0  \n",
       "7             1             0              0  \n",
       "8             1             0              0  \n",
       "9             1             0              0  \n",
       "10            1             0              0  \n",
       "11            1             0              0  \n",
       "12            0             1              0  \n",
       "13            1             0              0  \n",
       "14            1             0              0  "
      ]
     },
     "execution_count": 3,
     "metadata": {},
     "output_type": "execute_result"
    }
   ],
   "source": [
    "### Resample and print 15 rows\n",
    "\n",
    "# random sample of 1000 rows from the dataframe using a fixed random seed\n",
    "data = cardio_data.sample(n = 1000, random_state = 2003, ignore_index = True)\n",
    "# sample function from the pandas documentation: https://pandas.pydata.org/docs/reference/api/pandas.DataFrame.sample.html\n",
    "\n",
    "# Print the first 15 rows\n",
    "data.head(15)"
   ]
  },
  {
   "cell_type": "markdown",
   "metadata": {
    "id": "mfq_3_WNoDw3"
   },
   "source": [
    "----\n",
    "\n",
    "**1. A)** \n",
    "\n",
    "We have the data so now, let's put it to use. All the analyses will be done based on this sample of 1000.\n",
    "\n",
    "To teach the k-NN algorithm to recognize patterns, we need <font color = lightcoral>training data</font>. However, to assess how well a model has learned these patterns, we require <font color = lightcoral>test data</font> which is new and unseen by the trained model. It's important to note that the test set is not revealed to the model until after the training is complete.\n",
    "\n",
    "So, to *estimate the performance of a model*, we may use a basic <font color = lightcoral>train-test split</font>. \n",
    "\n",
    "We will gather the features into one array and the target variable into another array. Then, we will create training and test data by splitting the data into training (80%) and test (20%) sets, setting a fixed random seed to ensure that we will get the same split each time the cell is run (this enhances the reproducibility of our experiment)."
   ]
  },
  {
   "cell_type": "code",
   "execution_count": 4,
   "metadata": {},
   "outputs": [
    {
     "data": {
      "text/plain": [
       "cardio\n",
       "0    696\n",
       "1    304\n",
       "Name: count, dtype: int64"
      ]
     },
     "execution_count": 4,
     "metadata": {},
     "output_type": "execute_result"
    }
   ],
   "source": [
    "### Train-test split\n",
    "\n",
    "# Gather the features and the target variable\n",
    "features = data.drop(columns = ['cardio']).values\n",
    "target = data['cardio'].values\n",
    "\n",
    "# Print the number of instances for each value of the target variable\n",
    "data['cardio'].value_counts()"
   ]
  },
  {
   "cell_type": "code",
   "execution_count": 5,
   "metadata": {},
   "outputs": [],
   "source": [
    "# Split the data into training (80%) and test (20%) sets\n",
    "X_train, X_test, y_train, y_test = train_test_split(\n",
    "    features,\n",
    "    target,\n",
    "    test_size = 0.2,\n",
    "    shuffle = True,\n",
    "    random_state = 2003,  # fixed random seed\n",
    "    stratify = target\n",
    ")\n",
    "# train_test_split function from scikit-learn: https://scikit-learn.org/stable/modules/generated/sklearn.model_selection.train_test_split.html"
   ]
  },
  {
   "cell_type": "code",
   "execution_count": 6,
   "metadata": {},
   "outputs": [],
   "source": [
    "# copies will be used in the bonus execrise\n",
    "y_train_cvd = y_train \n",
    "y_test_cvd = y_test"
   ]
  },
  {
   "cell_type": "markdown",
   "metadata": {},
   "source": [
    "<font color = lightcoral> I chose to use stratification for the dataset. We can see that there are more than double the amount of negative 'cardio' instances than positive ones. In the case of such a difference, it is important to stratify the target variable when splitting into train and test sets. This ensures that the same proportion of positive and negative instances is found in both sets and avoids situations like having only negative examples in the test set (this would be bad fot testing purposes).</font>"
   ]
  },
  {
   "cell_type": "markdown",
   "metadata": {},
   "source": [
    "----------\n",
    "\n",
    "**1. B)** \n",
    "\n",
    "Moving on, we should standardize the numerical features in both the train and test sets.\n",
    "\n",
    "In k-NN, the model predicts whether or not a patient has cardiovascular disease based on the label of the closest data points from the training set. The distance between points is calculated using all feature values. So, features with larger numeric scales will have a greater influence on the distance calculation than others. Standardization guarantees that all features look like the same distribution with 0 mean unit variance. Thus, every feature can contribute equally to the model's prediction."
   ]
  },
  {
   "cell_type": "code",
   "execution_count": 7,
   "metadata": {},
   "outputs": [],
   "source": [
    "# Create lists to separate the numeric features from binary features\n",
    "numeric_features = ['age', 'height', 'weight', 'ap_hi', 'ap_lo']\n",
    "binary_features = ['sex', 'smoke', 'alco', 'active', 'cholesterol_normal', 'cholesterol_at_risk', 'cholesterol_elevated', 'gluc_normal', 'gluc_at_risk', 'gluc_elevated']"
   ]
  },
  {
   "cell_type": "code",
   "execution_count": 8,
   "metadata": {},
   "outputs": [],
   "source": [
    "# Transform the train and test sets from arrays into DataFrames\n",
    "X_train = pd.DataFrame(X_train, columns = data.drop(columns = ['cardio']).columns)\n",
    "X_test = pd.DataFrame(X_test, columns = data.drop(columns = ['cardio']).columns)"
   ]
  },
  {
   "cell_type": "code",
   "execution_count": 9,
   "metadata": {},
   "outputs": [],
   "source": [
    "### Code - Standardization\n",
    "\n",
    "scaler = StandardScaler()\n",
    "# StandardScaler class and its methods (transform, fit_transform) according to scikit-learn documentation\n",
    "# https://scikit-learn.org/stable/modules/generated/sklearn.preprocessing.StandardScaler.html#standardscaler\n",
    "\n",
    "data_train_numeric_scaled = scaler.fit_transform(X_train[numeric_features])\n",
    "data_test_numeric_scaled = scaler.transform(X_test[numeric_features])\n",
    "\n",
    "# numeric data for train and test transformed into DataFrames after standardization\n",
    "data_test_numeric = pd.DataFrame(data_test_numeric_scaled, index = X_test.index, columns = X_test[numeric_features].columns)\n",
    "data_train_numeric = pd.DataFrame(data_train_numeric_scaled, index = X_train.index, columns = X_train[numeric_features].columns)"
   ]
  },
  {
   "cell_type": "code",
   "execution_count": 10,
   "metadata": {},
   "outputs": [
    {
     "data": {
      "text/html": [
       "<div>\n",
       "<style scoped>\n",
       "    .dataframe tbody tr th:only-of-type {\n",
       "        vertical-align: middle;\n",
       "    }\n",
       "\n",
       "    .dataframe tbody tr th {\n",
       "        vertical-align: top;\n",
       "    }\n",
       "\n",
       "    .dataframe thead th {\n",
       "        text-align: right;\n",
       "    }\n",
       "</style>\n",
       "<table border=\"1\" class=\"dataframe\">\n",
       "  <thead>\n",
       "    <tr style=\"text-align: right;\">\n",
       "      <th></th>\n",
       "      <th>age</th>\n",
       "      <th>height</th>\n",
       "      <th>weight</th>\n",
       "      <th>ap_hi</th>\n",
       "      <th>ap_lo</th>\n",
       "      <th>sex</th>\n",
       "      <th>smoke</th>\n",
       "      <th>alco</th>\n",
       "      <th>active</th>\n",
       "      <th>cholesterol_normal</th>\n",
       "      <th>cholesterol_at_risk</th>\n",
       "      <th>cholesterol_elevated</th>\n",
       "      <th>gluc_normal</th>\n",
       "      <th>gluc_at_risk</th>\n",
       "      <th>gluc_elevated</th>\n",
       "    </tr>\n",
       "  </thead>\n",
       "  <tbody>\n",
       "    <tr>\n",
       "      <th>0</th>\n",
       "      <td>1.193591</td>\n",
       "      <td>0.932395</td>\n",
       "      <td>0.849498</td>\n",
       "      <td>-0.213168</td>\n",
       "      <td>-0.117250</td>\n",
       "      <td>1</td>\n",
       "      <td>0</td>\n",
       "      <td>0</td>\n",
       "      <td>0</td>\n",
       "      <td>0</td>\n",
       "      <td>0</td>\n",
       "      <td>1</td>\n",
       "      <td>0</td>\n",
       "      <td>1</td>\n",
       "      <td>0</td>\n",
       "    </tr>\n",
       "    <tr>\n",
       "      <th>1</th>\n",
       "      <td>-0.708255</td>\n",
       "      <td>-1.201842</td>\n",
       "      <td>-1.933552</td>\n",
       "      <td>0.970276</td>\n",
       "      <td>-0.007133</td>\n",
       "      <td>1</td>\n",
       "      <td>0</td>\n",
       "      <td>0</td>\n",
       "      <td>1</td>\n",
       "      <td>1</td>\n",
       "      <td>0</td>\n",
       "      <td>0</td>\n",
       "      <td>1</td>\n",
       "      <td>0</td>\n",
       "      <td>0</td>\n",
       "    </tr>\n",
       "    <tr>\n",
       "      <th>2</th>\n",
       "      <td>0.023224</td>\n",
       "      <td>-0.001334</td>\n",
       "      <td>1.601673</td>\n",
       "      <td>-0.804889</td>\n",
       "      <td>-0.207346</td>\n",
       "      <td>0</td>\n",
       "      <td>0</td>\n",
       "      <td>0</td>\n",
       "      <td>1</td>\n",
       "      <td>1</td>\n",
       "      <td>0</td>\n",
       "      <td>0</td>\n",
       "      <td>1</td>\n",
       "      <td>0</td>\n",
       "      <td>0</td>\n",
       "    </tr>\n",
       "    <tr>\n",
       "      <th>3</th>\n",
       "      <td>1.193591</td>\n",
       "      <td>-1.068452</td>\n",
       "      <td>1.075150</td>\n",
       "      <td>0.970276</td>\n",
       "      <td>-0.107239</td>\n",
       "      <td>0</td>\n",
       "      <td>0</td>\n",
       "      <td>0</td>\n",
       "      <td>0</td>\n",
       "      <td>1</td>\n",
       "      <td>0</td>\n",
       "      <td>0</td>\n",
       "      <td>0</td>\n",
       "      <td>1</td>\n",
       "      <td>0</td>\n",
       "    </tr>\n",
       "    <tr>\n",
       "      <th>4</th>\n",
       "      <td>1.047296</td>\n",
       "      <td>-0.668283</td>\n",
       "      <td>-1.181376</td>\n",
       "      <td>-0.213168</td>\n",
       "      <td>-0.107239</td>\n",
       "      <td>0</td>\n",
       "      <td>0</td>\n",
       "      <td>0</td>\n",
       "      <td>0</td>\n",
       "      <td>1</td>\n",
       "      <td>0</td>\n",
       "      <td>0</td>\n",
       "      <td>1</td>\n",
       "      <td>0</td>\n",
       "      <td>0</td>\n",
       "    </tr>\n",
       "  </tbody>\n",
       "</table>\n",
       "</div>"
      ],
      "text/plain": [
       "        age    height    weight     ap_hi     ap_lo  sex  smoke  alco  active  \\\n",
       "0  1.193591  0.932395  0.849498 -0.213168 -0.117250    1      0     0       0   \n",
       "1 -0.708255 -1.201842 -1.933552  0.970276 -0.007133    1      0     0       1   \n",
       "2  0.023224 -0.001334  1.601673 -0.804889 -0.207346    0      0     0       1   \n",
       "3  1.193591 -1.068452  1.075150  0.970276 -0.107239    0      0     0       0   \n",
       "4  1.047296 -0.668283 -1.181376 -0.213168 -0.107239    0      0     0       0   \n",
       "\n",
       "   cholesterol_normal  cholesterol_at_risk  cholesterol_elevated  gluc_normal  \\\n",
       "0                   0                    0                     1            0   \n",
       "1                   1                    0                     0            1   \n",
       "2                   1                    0                     0            1   \n",
       "3                   1                    0                     0            0   \n",
       "4                   1                    0                     0            1   \n",
       "\n",
       "   gluc_at_risk  gluc_elevated  \n",
       "0             1              0  \n",
       "1             0              0  \n",
       "2             0              0  \n",
       "3             1              0  \n",
       "4             0              0  "
      ]
     },
     "execution_count": 10,
     "metadata": {},
     "output_type": "execute_result"
    }
   ],
   "source": [
    "# Combine the scaled numeric features with the binary features\n",
    "data_train = pd.concat([data_train_numeric, X_train[binary_features].astype(int)], axis = 1)\n",
    "data_test = pd.concat([data_test_numeric, X_test[binary_features].astype(int)], axis = 1)\n",
    "# astype(int) used for the binary features to have values 0 and 1, not 0.0 and 1.0\n",
    "\n",
    "data_train.head(5)"
   ]
  },
  {
   "cell_type": "markdown",
   "metadata": {
    "id": "muqCazPIoDw4"
   },
   "source": [
    "-------\n",
    "\n",
    "It's time for us to train the model!\n",
    "\n",
    "**1. C)**\n",
    "\n",
    "We will train a k-NN model with $k=3$, print out the confusion matrix and use it to compute the accuracy, the precision and the recall."
   ]
  },
  {
   "cell_type": "code",
   "execution_count": 11,
   "metadata": {
    "id": "NMR7Y2s6oDw4",
    "outputId": "33bd42f3-a25c-47de-cb12-908d698d08af"
   },
   "outputs": [],
   "source": [
    "### Code - the kNN classifier\n",
    "\n",
    "# Train the k-NN model with k = 3\n",
    "neigh = KNeighborsClassifier(n_neighbors = 3)\n",
    "neigh.fit(data_train, y_train)\n",
    "\n",
    "knn_model = neigh.predict(data_test)  # predictions on the test set"
   ]
  },
  {
   "cell_type": "code",
   "execution_count": 12,
   "metadata": {},
   "outputs": [
    {
     "name": "stdout",
     "output_type": "stream",
     "text": [
      "Confusion Matrix:\n",
      " [[124  15]\n",
      " [ 36  25]]\n"
     ]
    }
   ],
   "source": [
    "from sklearn.metrics import confusion_matrix\n",
    "\n",
    "# Calculate the confusion matrix\n",
    "cm = confusion_matrix(y_test, knn_model)\n",
    "print(\"Confusion Matrix:\\n\", cm)"
   ]
  },
  {
   "cell_type": "markdown",
   "metadata": {},
   "source": [
    "<font color = lightcoral> Top left left cell of the confusion matrix represents the correctly identified patients with no CVD (true negatives); top right: patients wrongly predicted to have a CVD (false positives); bottom left: patients wrongly predicted to not have a CVD (false negatives); bottom right: the correctly identified patients to have a CVD (true positives). </font>\n",
    "- <font color = lightcoral>The model can predict patients with no CVD well (the true negatives).</font>\n",
    "- <font color = lightcoral>The model identifies patients who have a CVD very poorly (the true positives).</font>"
   ]
  },
  {
   "cell_type": "code",
   "execution_count": 13,
   "metadata": {},
   "outputs": [
    {
     "name": "stdout",
     "output_type": "stream",
     "text": [
      "Accuracy = 0.74\n",
      "Precision = 0.62\n",
      "Recall = 0.41\n"
     ]
    }
   ],
   "source": [
    "# Get the elements of the confusion matrix\n",
    "tn, fp, fn, tp = cm.ravel()\n",
    "\n",
    "# Compute the accuracy, the precision and the recall \n",
    "accuracy = (tp + tn) / (tp + tn + fp + fn)\n",
    "precision = tp / (tp + fp)\n",
    "recall = tp / (tp + fn)\n",
    "\n",
    "print(f\"Accuracy = {accuracy:.2f}\")\n",
    "print(f\"Precision = {precision:.2f}\")\n",
    "print(f\"Recall = {recall:.2f}\")"
   ]
  },
  {
   "cell_type": "markdown",
   "metadata": {},
   "source": [
    "<font color = lightcoral> Accuracy measures the proportion of total correct predictions. We have to be cautious when interpreting the accuracy because this dataset is imbalanced with regards to the 'cardio' feature. There are significantly more such negative instances than positive ones. </font>\n",
    "\n",
    "<font color = lightcoral>Precision measures how many positive predictions are actually positive (in our case, the proportion of correct CVD predictions out of all the patients predicted to have CVD). </font>\n",
    "\n",
    "<font color = lightcoral>Recall measures how many of the positive instances were predicted to be positive (in our case, the proportion of patients with CVD that have been detected by the model). </font>"
   ]
  },
  {
   "cell_type": "markdown",
   "metadata": {
    "id": "gQfehqAioDw4"
   },
   "source": [
    "__________\n",
    "## <font color = royalblue> 2. Classification accuracy using leave-one-out cross-validation"
   ]
  },
  {
   "cell_type": "markdown",
   "metadata": {
    "id": "DPZx-6JLoDw5"
   },
   "source": [
    "While the train-test split may provide us with an unbiased estimate of the performance, we only evaluate the model once. Especially when dealing with small datasets, a test set itself will be very small. How can we be sure that the evaluation is accurate with this small test set? And what if we'd like to compare two models and the other seems to be better -- how can we be sure that it's not just a coincidence?\n",
    "\n",
    "These concerns can be addressed using <font color = royalblue>cross-validation</font>. With its help, we can split the dataset into multiple different training and test sets, which allows us to evaluate models across various data partitions. Now, we'll take a closer look at the <font color = royalblue>leave-one-out cross-validation</font>."
   ]
  },
  {
   "cell_type": "markdown",
   "metadata": {},
   "source": [
    "Let's keep the focus on detecting the CVD, so once again we utilize the k-NN model (with $k=3$) to predict the presence of the disease. Now, we apply leave-one-out cross-validation to assess whether the k-NN model is suitable for addressing the problem."
   ]
  },
  {
   "cell_type": "code",
   "execution_count": 14,
   "metadata": {
    "id": "znHjVwKDoDw5",
    "outputId": "3b73cc4a-eef7-4e9e-be17-19d79df71033"
   },
   "outputs": [
    {
     "name": "stdout",
     "output_type": "stream",
     "text": [
      "Number of rows and columns:  (1000, 15)\n"
     ]
    },
    {
     "data": {
      "text/html": [
       "<div>\n",
       "<style scoped>\n",
       "    .dataframe tbody tr th:only-of-type {\n",
       "        vertical-align: middle;\n",
       "    }\n",
       "\n",
       "    .dataframe tbody tr th {\n",
       "        vertical-align: top;\n",
       "    }\n",
       "\n",
       "    .dataframe thead th {\n",
       "        text-align: right;\n",
       "    }\n",
       "</style>\n",
       "<table border=\"1\" class=\"dataframe\">\n",
       "  <thead>\n",
       "    <tr style=\"text-align: right;\">\n",
       "      <th></th>\n",
       "      <th>age</th>\n",
       "      <th>height</th>\n",
       "      <th>weight</th>\n",
       "      <th>ap_hi</th>\n",
       "      <th>ap_lo</th>\n",
       "      <th>sex</th>\n",
       "      <th>smoke</th>\n",
       "      <th>alco</th>\n",
       "      <th>active</th>\n",
       "      <th>cholesterol_normal</th>\n",
       "      <th>cholesterol_at_risk</th>\n",
       "      <th>cholesterol_elevated</th>\n",
       "      <th>gluc_normal</th>\n",
       "      <th>gluc_at_risk</th>\n",
       "      <th>gluc_elevated</th>\n",
       "    </tr>\n",
       "  </thead>\n",
       "  <tbody>\n",
       "    <tr>\n",
       "      <th>0</th>\n",
       "      <td>0.177513</td>\n",
       "      <td>1.992594</td>\n",
       "      <td>0.134936</td>\n",
       "      <td>-0.798936</td>\n",
       "      <td>-0.205702</td>\n",
       "      <td>1</td>\n",
       "      <td>0</td>\n",
       "      <td>1</td>\n",
       "      <td>1</td>\n",
       "      <td>1</td>\n",
       "      <td>0</td>\n",
       "      <td>0</td>\n",
       "      <td>1</td>\n",
       "      <td>0</td>\n",
       "      <td>0</td>\n",
       "    </tr>\n",
       "    <tr>\n",
       "      <th>1</th>\n",
       "      <td>-1.428278</td>\n",
       "      <td>0.397562</td>\n",
       "      <td>-0.252122</td>\n",
       "      <td>-0.798936</td>\n",
       "      <td>-0.205702</td>\n",
       "      <td>1</td>\n",
       "      <td>1</td>\n",
       "      <td>0</td>\n",
       "      <td>1</td>\n",
       "      <td>1</td>\n",
       "      <td>0</td>\n",
       "      <td>0</td>\n",
       "      <td>1</td>\n",
       "      <td>0</td>\n",
       "      <td>0</td>\n",
       "    </tr>\n",
       "    <tr>\n",
       "      <th>2</th>\n",
       "      <td>-1.574259</td>\n",
       "      <td>-0.399954</td>\n",
       "      <td>0.134936</td>\n",
       "      <td>-0.679967</td>\n",
       "      <td>-0.104030</td>\n",
       "      <td>1</td>\n",
       "      <td>0</td>\n",
       "      <td>0</td>\n",
       "      <td>1</td>\n",
       "      <td>1</td>\n",
       "      <td>0</td>\n",
       "      <td>0</td>\n",
       "      <td>1</td>\n",
       "      <td>0</td>\n",
       "      <td>0</td>\n",
       "    </tr>\n",
       "    <tr>\n",
       "      <th>3</th>\n",
       "      <td>-0.990335</td>\n",
       "      <td>-1.596229</td>\n",
       "      <td>0.212348</td>\n",
       "      <td>-0.798936</td>\n",
       "      <td>-0.205702</td>\n",
       "      <td>0</td>\n",
       "      <td>0</td>\n",
       "      <td>0</td>\n",
       "      <td>1</td>\n",
       "      <td>1</td>\n",
       "      <td>0</td>\n",
       "      <td>0</td>\n",
       "      <td>1</td>\n",
       "      <td>0</td>\n",
       "      <td>0</td>\n",
       "    </tr>\n",
       "    <tr>\n",
       "      <th>4</th>\n",
       "      <td>-0.990335</td>\n",
       "      <td>0.264642</td>\n",
       "      <td>0.521994</td>\n",
       "      <td>0.985599</td>\n",
       "      <td>-0.002359</td>\n",
       "      <td>0</td>\n",
       "      <td>0</td>\n",
       "      <td>0</td>\n",
       "      <td>1</td>\n",
       "      <td>1</td>\n",
       "      <td>0</td>\n",
       "      <td>0</td>\n",
       "      <td>1</td>\n",
       "      <td>0</td>\n",
       "      <td>0</td>\n",
       "    </tr>\n",
       "    <tr>\n",
       "      <th>5</th>\n",
       "      <td>-1.428278</td>\n",
       "      <td>3.188868</td>\n",
       "      <td>2.612108</td>\n",
       "      <td>0.985599</td>\n",
       "      <td>-0.002359</td>\n",
       "      <td>1</td>\n",
       "      <td>0</td>\n",
       "      <td>0</td>\n",
       "      <td>1</td>\n",
       "      <td>1</td>\n",
       "      <td>0</td>\n",
       "      <td>0</td>\n",
       "      <td>0</td>\n",
       "      <td>0</td>\n",
       "      <td>1</td>\n",
       "    </tr>\n",
       "    <tr>\n",
       "      <th>6</th>\n",
       "      <td>0.907418</td>\n",
       "      <td>-1.197471</td>\n",
       "      <td>-0.561768</td>\n",
       "      <td>1.580443</td>\n",
       "      <td>-0.002359</td>\n",
       "      <td>0</td>\n",
       "      <td>0</td>\n",
       "      <td>0</td>\n",
       "      <td>1</td>\n",
       "      <td>1</td>\n",
       "      <td>0</td>\n",
       "      <td>0</td>\n",
       "      <td>1</td>\n",
       "      <td>0</td>\n",
       "      <td>0</td>\n",
       "    </tr>\n",
       "    <tr>\n",
       "      <th>7</th>\n",
       "      <td>-0.990335</td>\n",
       "      <td>-0.134116</td>\n",
       "      <td>1.837992</td>\n",
       "      <td>1.580443</td>\n",
       "      <td>-0.002359</td>\n",
       "      <td>0</td>\n",
       "      <td>0</td>\n",
       "      <td>0</td>\n",
       "      <td>1</td>\n",
       "      <td>1</td>\n",
       "      <td>0</td>\n",
       "      <td>0</td>\n",
       "      <td>1</td>\n",
       "      <td>0</td>\n",
       "      <td>0</td>\n",
       "    </tr>\n",
       "    <tr>\n",
       "      <th>8</th>\n",
       "      <td>-0.844354</td>\n",
       "      <td>-0.001196</td>\n",
       "      <td>-1.181061</td>\n",
       "      <td>-1.988626</td>\n",
       "      <td>-0.307374</td>\n",
       "      <td>1</td>\n",
       "      <td>0</td>\n",
       "      <td>0</td>\n",
       "      <td>1</td>\n",
       "      <td>1</td>\n",
       "      <td>0</td>\n",
       "      <td>0</td>\n",
       "      <td>1</td>\n",
       "      <td>0</td>\n",
       "      <td>0</td>\n",
       "    </tr>\n",
       "    <tr>\n",
       "      <th>9</th>\n",
       "      <td>0.469475</td>\n",
       "      <td>-0.798712</td>\n",
       "      <td>0.289759</td>\n",
       "      <td>0.390754</td>\n",
       "      <td>-0.104030</td>\n",
       "      <td>0</td>\n",
       "      <td>0</td>\n",
       "      <td>0</td>\n",
       "      <td>0</td>\n",
       "      <td>1</td>\n",
       "      <td>0</td>\n",
       "      <td>0</td>\n",
       "      <td>1</td>\n",
       "      <td>0</td>\n",
       "      <td>0</td>\n",
       "    </tr>\n",
       "  </tbody>\n",
       "</table>\n",
       "</div>"
      ],
      "text/plain": [
       "        age    height    weight     ap_hi     ap_lo  sex  smoke  alco  active  \\\n",
       "0  0.177513  1.992594  0.134936 -0.798936 -0.205702    1      0     1       1   \n",
       "1 -1.428278  0.397562 -0.252122 -0.798936 -0.205702    1      1     0       1   \n",
       "2 -1.574259 -0.399954  0.134936 -0.679967 -0.104030    1      0     0       1   \n",
       "3 -0.990335 -1.596229  0.212348 -0.798936 -0.205702    0      0     0       1   \n",
       "4 -0.990335  0.264642  0.521994  0.985599 -0.002359    0      0     0       1   \n",
       "5 -1.428278  3.188868  2.612108  0.985599 -0.002359    1      0     0       1   \n",
       "6  0.907418 -1.197471 -0.561768  1.580443 -0.002359    0      0     0       1   \n",
       "7 -0.990335 -0.134116  1.837992  1.580443 -0.002359    0      0     0       1   \n",
       "8 -0.844354 -0.001196 -1.181061 -1.988626 -0.307374    1      0     0       1   \n",
       "9  0.469475 -0.798712  0.289759  0.390754 -0.104030    0      0     0       0   \n",
       "\n",
       "   cholesterol_normal  cholesterol_at_risk  cholesterol_elevated  gluc_normal  \\\n",
       "0                   1                    0                     0            1   \n",
       "1                   1                    0                     0            1   \n",
       "2                   1                    0                     0            1   \n",
       "3                   1                    0                     0            1   \n",
       "4                   1                    0                     0            1   \n",
       "5                   1                    0                     0            0   \n",
       "6                   1                    0                     0            1   \n",
       "7                   1                    0                     0            1   \n",
       "8                   1                    0                     0            1   \n",
       "9                   1                    0                     0            1   \n",
       "\n",
       "   gluc_at_risk  gluc_elevated  \n",
       "0             0              0  \n",
       "1             0              0  \n",
       "2             0              0  \n",
       "3             0              0  \n",
       "4             0              0  \n",
       "5             0              1  \n",
       "6             0              0  \n",
       "7             0              0  \n",
       "8             0              0  \n",
       "9             0              0  "
      ]
     },
     "execution_count": 14,
     "metadata": {},
     "output_type": "execute_result"
    }
   ],
   "source": [
    "# Standardize the numeric features for the entire sample of 1000\n",
    "scaler2 = StandardScaler()\n",
    "data_full_numeric_scaled = scaler2.fit_transform(data[numeric_features])\n",
    "\n",
    "# Convert standardized data into a DataFrame\n",
    "data_full_numeric = pd.DataFrame(data_full_numeric_scaled, index = data.index, columns = data[numeric_features].columns)\n",
    "\n",
    "# Combine the numeric and binary features for the entire sample of 1000\n",
    "data_full = pd.concat([data_full_numeric, data[binary_features].astype(int)], axis = 1)\n",
    "\n",
    "print(\"Number of rows and columns: \", data_full.shape)\n",
    "data_full.head(10)"
   ]
  },
  {
   "cell_type": "code",
   "execution_count": 15,
   "metadata": {},
   "outputs": [
    {
     "name": "stdout",
     "output_type": "stream",
     "text": [
      "Mean Score: 0.74\n"
     ]
    }
   ],
   "source": [
    "### Leave-one-out cross-validation\n",
    "\n",
    "loo = LeaveOneOut()\n",
    "scores = cross_val_score(estimator = neigh, X = data_full, y = target, cv = loo)\n",
    "# parameters of 'cross_val_score' according to: https://scikit-learn.org/stable/modules/generated/sklearn.model_selection.cross_val_score.html#\n",
    "# estimator is the KNeighborsClassifier with k = 3\n",
    "# using LeaveOneOut() as input for 'cv': https://scikit-learn.org/stable/modules/generated/sklearn.model_selection.LeaveOneOut.html#\n",
    "\n",
    "# Calculate the mean accuracy across all iterations\n",
    "mean_score = scores.mean()\n",
    "print(f\"Mean Score: {mean_score:.2f}\")"
   ]
  },
  {
   "cell_type": "markdown",
   "metadata": {},
   "source": [
    "<font color = royalblue> Leave-one-out cross-validation provides the same accuracy as the train-test split. The k-NN model (with k=3) seems to work for the problem in hand because it shows a constant accuracy in detecting the CVD, both with the train-test split and the leave-one-out cross-validation, which tests each point in isolation (allowing for a more precise evaluation). Thus, the model can be trusted to make stable predictions.</font>"
   ]
  },
  {
   "cell_type": "markdown",
   "metadata": {
    "id": "88BjCQL6oDw5"
   },
   "source": [
    "____________\n",
    "## <font color = forestgreen> 3. Model selection with leave-one-out cross-validation"
   ]
  },
  {
   "cell_type": "markdown",
   "metadata": {
    "id": "A8fcES_LoDw5"
   },
   "source": [
    "So far, we've trained one model at a time and the accuracy is what it is, but could we still do a little better? Let's explore that possibility through <font color=green>hyperparameter tuning</font>. We use model selection to estimate the performance of various models to identify the model which is most likely to provide the \"best\" predictive performance for the task. And when we have found this most suitable model, we assess its perfomance and generalisation power on unseen data.\n",
    "\n",
    "This time, we're going to train multiple models and our goal is to select the best K-Nearest Neighbors model from this set. We'll focus on fine-tuning the number of nearest neighbors (the value of k) and use default values for all the other hyperparameters. \n",
    "\n",
    "We will search for the optimal k value from a set of $k=1...30$ using leave-one-out cross-validation. Plot the accuracies vs. the k values."
   ]
  },
  {
   "cell_type": "code",
   "execution_count": 16,
   "metadata": {
    "id": "RJ7570_ZoDw6",
    "outputId": "91caaf74-2636-46f7-a4e3-4e5ba98e4c4e"
   },
   "outputs": [],
   "source": [
    "### Code - Select best model\n",
    "\n",
    "accuracies = []\n",
    "\n",
    "for k in range(1, 31):\n",
    "\n",
    "    # Create a k-NN model with k=1,...,30\n",
    "    knn = KNeighborsClassifier(n_neighbors = k)\n",
    " \n",
    "    # Using cross_val_score for leave-one-out cross-validation\n",
    "    accuracy = cross_val_score(estimator = knn, X = data_full, y = target, cv = loo)\n",
    "\n",
    "    # Store the mean accuracy for current k in a list\n",
    "    accuracies.append(accuracy.mean())"
   ]
  },
  {
   "cell_type": "code",
   "execution_count": 17,
   "metadata": {},
   "outputs": [
    {
     "name": "stdout",
     "output_type": "stream",
     "text": [
      "Accuracies of K-Nearest Neighbors model for k = 1,..., 30:\n",
      " [0.656, 0.709, 0.74, 0.761, 0.76, 0.771, 0.764, 0.773, 0.775, 0.774, 0.776, 0.773, 0.775, 0.773, 0.77, 0.769, 0.771, 0.77, 0.773, 0.77, 0.768, 0.767, 0.766, 0.764, 0.763, 0.763, 0.767, 0.767, 0.765, 0.765]\n",
      "\n",
      "Value of k with the best accuracy: 11\n",
      "Accuracy with k = 11 : 0.776\n"
     ]
    }
   ],
   "source": [
    "print(\"Accuracies of K-Nearest Neighbors model for k = 1,..., 30:\\n\", accuracies)\n",
    "\n",
    "# Find the value for k with the highest accuracy\n",
    "k_max = np.argmax(accuracies) + 1  # add 1 to the index of the highest accuracy because k starts from 1, not 0 \n",
    "\n",
    "print(\"\\nValue of k with the best accuracy:\", k_max)\n",
    "print(f\"Accuracy with k = {k_max} : {max(accuracies)}\")"
   ]
  },
  {
   "cell_type": "code",
   "execution_count": 18,
   "metadata": {},
   "outputs": [
    {
     "data": {
      "image/png": "[encoded data removed]",
      "text/plain": [
       "<Figure size 1000x600 with 1 Axes>"
      ]
     },
     "metadata": {},
     "output_type": "display_data"
    }
   ],
   "source": [
    "### Code - Plot the accuracies vs. the values for k\n",
    "\n",
    "plt.figure(figsize=(10, 6))\n",
    "plt.plot(range(1,31), accuracies, marker = '.')\n",
    "plt.xlabel(\"Number of Neighbors (k)\")\n",
    "plt.ylabel(\"Accuracy\")\n",
    "plt.title(\"Accuracies vs. k values (number of neighbors)\")\n",
    "plt.grid()\n",
    "plt.show()"
   ]
  },
  {
   "cell_type": "markdown",
   "metadata": {},
   "source": [
    "<font color = green>The value k = 11 produces the best accuracy when using leave-one-out cross-validation (accuracy = 0,776). It is slightly higher than the 0,74 accuracy obtained with the previous model (with k=3). If the number of k is still increased, the accuracy reaches a limit of about 0,77 for k=20, then it starts to slightly decrease towards 0,76. As k increases, the model starts to consider more neighbors. So, the impact of ouliers decreases and the prediction becomes a more general reflection of the dataset.</font>\n",
    "\n",
    "<font color = green> Choosing a very small k can lead to overfitting, as the model has high variance and becomes very sensitive to outliers. On the other hand, a very large number of neighbors can cause underfitting. The high bias exhibited in this case makes it more difficult for the model to distinguish between classes (the healthy individuals and the ones with CVD).</font>"
   ]
  },
  {
   "cell_type": "markdown",
   "metadata": {},
   "source": [
    "_____________________\n",
    "\n",
    "## <font color = darkorange> 4. Ridge regression </font>"
   ]
  },
  {
   "cell_type": "markdown",
   "metadata": {},
   "source": [
    "Now, we shift the focus to another kind of supervised learning - regression - as we are changing the main objective from predicting discrete classes to estimating continuous values. The following part is going to involve utilizing one regression model, <font color = darkorange>Ridge Regression</font>, and our goal is to evaluate the performance of this model. "
   ]
  },
  {
   "cell_type": "markdown",
   "metadata": {},
   "source": [
    "Thus, we will also change the dataset - the new dataset is about brushtail possums and it includes variables such as:\n",
    "\n",
    "\n",
    "| Feature | Type | Explanation |\n",
    "| :- | :- | :-\n",
    "|sex|binary| Sex, either male (0) or female (1)\n",
    "|age|numeric| Age in years\n",
    "|len_head|numeric| Head length in mm\n",
    "|width_skull|numeric| Skull width in mm\n",
    "|len_earconch|numeric| Ear conch length in mm\n",
    "|width_eye|numeric| Distance from medial canthus to lateral canthusof right eye, i.e., eye width in mm\n",
    "|len_foot|numeric| Foot length in mm\n",
    "|len_tail|numeric| Tail length in mm\n",
    "|chest|numeric| Chest grit in mm\n",
    "|belly |numeric| Belly grit in mm\n",
    "|len_total|numeric| Total length in mm\n",
    "\n",
    "In this case, our target variable will be *the age of the possum*."
   ]
  },
  {
   "cell_type": "code",
   "execution_count": 19,
   "metadata": {},
   "outputs": [],
   "source": [
    "### Loading code\n",
    "\n",
    "# Data path\n",
    "data_path = 'possum_data.csv'\n",
    "\n",
    "# Load the data \n",
    "possum_data = pd.read_csv(data_path)"
   ]
  },
  {
   "cell_type": "markdown",
   "metadata": {},
   "source": [
    "-----------\n",
    "\n",
    "Regression allows us to examine <font color = darkorange>relationships between two or more variables</font>. This relationship is represented by an *equation*, which itself represents how a change in one variable affects another on average.\n",
    "\n",
    "We start by examining those relationships between the variables in the given dataset.\n",
    "\n",
    "\n",
    "**4. A)**\n",
    "\n",
    "We will plot pairwise relationships between the age variable and the others, coloring the samples based on the sex variable. This will help us to find out which body dimensions are the most correlated with age."
   ]
  },
  {
   "cell_type": "code",
   "execution_count": 20,
   "metadata": {},
   "outputs": [
    {
     "data": {
      "text/html": [
       "<div>\n",
       "<style scoped>\n",
       "    .dataframe tbody tr th:only-of-type {\n",
       "        vertical-align: middle;\n",
       "    }\n",
       "\n",
       "    .dataframe tbody tr th {\n",
       "        vertical-align: top;\n",
       "    }\n",
       "\n",
       "    .dataframe thead th {\n",
       "        text-align: right;\n",
       "    }\n",
       "</style>\n",
       "<table border=\"1\" class=\"dataframe\">\n",
       "  <thead>\n",
       "    <tr style=\"text-align: right;\">\n",
       "      <th></th>\n",
       "      <th>sex</th>\n",
       "      <th>age</th>\n",
       "      <th>len_head</th>\n",
       "      <th>width_skull</th>\n",
       "      <th>len_earconch</th>\n",
       "      <th>width_eye</th>\n",
       "      <th>len_foot</th>\n",
       "      <th>len_tail</th>\n",
       "      <th>chest</th>\n",
       "      <th>belly</th>\n",
       "      <th>len_total</th>\n",
       "    </tr>\n",
       "  </thead>\n",
       "  <tbody>\n",
       "    <tr>\n",
       "      <th>0</th>\n",
       "      <td>0</td>\n",
       "      <td>8.0</td>\n",
       "      <td>94.1</td>\n",
       "      <td>60.4</td>\n",
       "      <td>54.5</td>\n",
       "      <td>15.2</td>\n",
       "      <td>74.5</td>\n",
       "      <td>360.0</td>\n",
       "      <td>280.0</td>\n",
       "      <td>360.0</td>\n",
       "      <td>890.0</td>\n",
       "    </tr>\n",
       "    <tr>\n",
       "      <th>1</th>\n",
       "      <td>1</td>\n",
       "      <td>6.0</td>\n",
       "      <td>92.5</td>\n",
       "      <td>57.6</td>\n",
       "      <td>51.2</td>\n",
       "      <td>16.0</td>\n",
       "      <td>72.5</td>\n",
       "      <td>365.0</td>\n",
       "      <td>285.0</td>\n",
       "      <td>330.0</td>\n",
       "      <td>915.0</td>\n",
       "    </tr>\n",
       "    <tr>\n",
       "      <th>2</th>\n",
       "      <td>1</td>\n",
       "      <td>6.0</td>\n",
       "      <td>94.0</td>\n",
       "      <td>60.0</td>\n",
       "      <td>51.9</td>\n",
       "      <td>15.5</td>\n",
       "      <td>75.4</td>\n",
       "      <td>390.0</td>\n",
       "      <td>300.0</td>\n",
       "      <td>340.0</td>\n",
       "      <td>955.0</td>\n",
       "    </tr>\n",
       "    <tr>\n",
       "      <th>3</th>\n",
       "      <td>1</td>\n",
       "      <td>6.0</td>\n",
       "      <td>93.2</td>\n",
       "      <td>57.1</td>\n",
       "      <td>52.2</td>\n",
       "      <td>15.2</td>\n",
       "      <td>76.1</td>\n",
       "      <td>380.0</td>\n",
       "      <td>280.0</td>\n",
       "      <td>340.0</td>\n",
       "      <td>920.0</td>\n",
       "    </tr>\n",
       "    <tr>\n",
       "      <th>4</th>\n",
       "      <td>1</td>\n",
       "      <td>2.0</td>\n",
       "      <td>91.5</td>\n",
       "      <td>56.3</td>\n",
       "      <td>53.2</td>\n",
       "      <td>15.1</td>\n",
       "      <td>71.0</td>\n",
       "      <td>360.0</td>\n",
       "      <td>285.0</td>\n",
       "      <td>330.0</td>\n",
       "      <td>855.0</td>\n",
       "    </tr>\n",
       "  </tbody>\n",
       "</table>\n",
       "</div>"
      ],
      "text/plain": [
       "   sex  age  len_head  width_skull  len_earconch  width_eye  len_foot  \\\n",
       "0    0  8.0      94.1         60.4          54.5       15.2      74.5   \n",
       "1    1  6.0      92.5         57.6          51.2       16.0      72.5   \n",
       "2    1  6.0      94.0         60.0          51.9       15.5      75.4   \n",
       "3    1  6.0      93.2         57.1          52.2       15.2      76.1   \n",
       "4    1  2.0      91.5         56.3          53.2       15.1      71.0   \n",
       "\n",
       "   len_tail  chest  belly  len_total  \n",
       "0     360.0  280.0  360.0      890.0  \n",
       "1     365.0  285.0  330.0      915.0  \n",
       "2     390.0  300.0  340.0      955.0  \n",
       "3     380.0  280.0  340.0      920.0  \n",
       "4     360.0  285.0  330.0      855.0  "
      ]
     },
     "execution_count": 20,
     "metadata": {},
     "output_type": "execute_result"
    }
   ],
   "source": [
    "### Pairplot\n",
    "\n",
    "# Display the first 5 rows of the dataset\n",
    "possum_data.head()"
   ]
  },
  {
   "cell_type": "code",
   "execution_count": 21,
   "metadata": {},
   "outputs": [
    {
     "name": "stdout",
     "output_type": "stream",
     "text": [
      "['sex', 'len_head', 'width_skull', 'len_earconch', 'width_eye', 'len_foot', 'len_tail', 'chest', 'belly', 'len_total']\n"
     ]
    }
   ],
   "source": [
    "# Store the features (columns) other than 'age' in a list\n",
    "features = possum_data.drop(columns = ['age']).columns.tolist()\n",
    "print(features)"
   ]
  },
  {
   "cell_type": "code",
   "execution_count": 22,
   "metadata": {},
   "outputs": [
    {
     "data": {
      "image/png": "[encoded data removed]",
      "text/plain": [
       "<Figure size 808.875x250 with 3 Axes>"
      ]
     },
     "metadata": {},
     "output_type": "display_data"
    },
    {
     "data": {
      "image/png": "[encoded data removed]",
      "text/plain": [
       "<Figure size 808.875x250 with 3 Axes>"
      ]
     },
     "metadata": {},
     "output_type": "display_data"
    },
    {
     "data": {
      "image/png": "[encoded data removed]",
      "text/plain": [
       "<Figure size 808.875x250 with 3 Axes>"
      ]
     },
     "metadata": {},
     "output_type": "display_data"
    }
   ],
   "source": [
    "# Plot pairwise relationships\n",
    "\n",
    "sns.pairplot(possum_data, x_vars = features[1:4], y_vars = ['age'], hue = 'sex', kind = 'reg')\n",
    "plt.suptitle(\"Pairwise relationships between 'age' and body measurements (colored by 'sex')\", y = 1.08)\n",
    "plt.show()\n",
    "sns.pairplot(possum_data, x_vars = features[4:7], y_vars = ['age'], hue = 'sex', kind = 'reg')\n",
    "plt.show()\n",
    "sns.pairplot(possum_data, x_vars = features[7:10], y_vars = ['age'], hue = 'sex', kind = 'reg')\n",
    "plt.show()\n",
    "\n",
    "# 3 different plots (each with 3 of the features) in order to increase the size of the individual plots\n",
    "# better visual aspect, easier to interpret, like a 3x3 subplot"
   ]
  },
  {
   "cell_type": "markdown",
   "metadata": {},
   "source": [
    "<font color = darkorange> Head length and total length (perhaps also the chest and belly grit) seem to be the most correlated with age, as they show an upward trend. Some variables that seem to have no correlation with age are ear conch length and foot length (also perhaps eye width), because they do not change with age and the points are only scattered around the plot.\n",
    "\n",
    "<font color = darkorange> There are differences in the correlations between males and females. For example, in the skull width plot, the regression line goes upward for males, but remains constant for females. On the contrary, for the tail length, females show an upward trend, while for the males it stays constant with age."
   ]
  },
  {
   "cell_type": "markdown",
   "metadata": {},
   "source": [
    "------\n",
    "\n",
    "**4. B)**\n",
    "\n",
    "Before the regression analysis itself, let's check that our dataset is in a proper format and prepare it accordingly. We'll also perform the train-test (80/20) split as we're going to test the overall performance of the model using the test set."
   ]
  },
  {
   "cell_type": "code",
   "execution_count": 23,
   "metadata": {},
   "outputs": [
    {
     "name": "stdout",
     "output_type": "stream",
     "text": [
      "<class 'pandas.core.frame.DataFrame'>\n",
      "RangeIndex: 101 entries, 0 to 100\n",
      "Data columns (total 11 columns):\n",
      " #   Column        Non-Null Count  Dtype  \n",
      "---  ------        --------------  -----  \n",
      " 0   sex           101 non-null    int64  \n",
      " 1   age           101 non-null    float64\n",
      " 2   len_head      101 non-null    float64\n",
      " 3   width_skull   101 non-null    float64\n",
      " 4   len_earconch  101 non-null    float64\n",
      " 5   width_eye     101 non-null    float64\n",
      " 6   len_foot      101 non-null    float64\n",
      " 7   len_tail      101 non-null    float64\n",
      " 8   chest         101 non-null    float64\n",
      " 9   belly         101 non-null    float64\n",
      " 10  len_total     101 non-null    float64\n",
      "dtypes: float64(10), int64(1)\n",
      "memory usage: 8.8 KB\n"
     ]
    }
   ],
   "source": [
    "### Code - Data preparation\n",
    "\n",
    "possum_data.info()"
   ]
  },
  {
   "cell_type": "code",
   "execution_count": 24,
   "metadata": {},
   "outputs": [
    {
     "data": {
      "text/html": [
       "<div>\n",
       "<style scoped>\n",
       "    .dataframe tbody tr th:only-of-type {\n",
       "        vertical-align: middle;\n",
       "    }\n",
       "\n",
       "    .dataframe tbody tr th {\n",
       "        vertical-align: top;\n",
       "    }\n",
       "\n",
       "    .dataframe thead th {\n",
       "        text-align: right;\n",
       "    }\n",
       "</style>\n",
       "<table border=\"1\" class=\"dataframe\">\n",
       "  <thead>\n",
       "    <tr style=\"text-align: right;\">\n",
       "      <th></th>\n",
       "      <th>sex</th>\n",
       "      <th>len_head</th>\n",
       "      <th>width_skull</th>\n",
       "      <th>len_earconch</th>\n",
       "      <th>width_eye</th>\n",
       "      <th>len_foot</th>\n",
       "      <th>len_tail</th>\n",
       "      <th>chest</th>\n",
       "      <th>belly</th>\n",
       "      <th>len_total</th>\n",
       "    </tr>\n",
       "  </thead>\n",
       "  <tbody>\n",
       "    <tr>\n",
       "      <th>0</th>\n",
       "      <td>0</td>\n",
       "      <td>0.391091</td>\n",
       "      <td>1.114121</td>\n",
       "      <td>1.575748</td>\n",
       "      <td>0.141928</td>\n",
       "      <td>1.389467</td>\n",
       "      <td>-0.534944</td>\n",
       "      <td>0.465334</td>\n",
       "      <td>1.238441</td>\n",
       "      <td>0.414441</td>\n",
       "    </tr>\n",
       "    <tr>\n",
       "      <th>1</th>\n",
       "      <td>1</td>\n",
       "      <td>-0.065889</td>\n",
       "      <td>0.207174</td>\n",
       "      <td>0.758956</td>\n",
       "      <td>0.901381</td>\n",
       "      <td>0.934052</td>\n",
       "      <td>-0.280089</td>\n",
       "      <td>0.714004</td>\n",
       "      <td>0.133146</td>\n",
       "      <td>1.013103</td>\n",
       "    </tr>\n",
       "    <tr>\n",
       "      <th>2</th>\n",
       "      <td>1</td>\n",
       "      <td>0.362530</td>\n",
       "      <td>0.984557</td>\n",
       "      <td>0.932215</td>\n",
       "      <td>0.426723</td>\n",
       "      <td>1.594404</td>\n",
       "      <td>0.994189</td>\n",
       "      <td>1.460016</td>\n",
       "      <td>0.501578</td>\n",
       "      <td>1.970964</td>\n",
       "    </tr>\n",
       "    <tr>\n",
       "      <th>3</th>\n",
       "      <td>1</td>\n",
       "      <td>0.134040</td>\n",
       "      <td>0.045219</td>\n",
       "      <td>1.006469</td>\n",
       "      <td>0.141928</td>\n",
       "      <td>1.753799</td>\n",
       "      <td>0.484478</td>\n",
       "      <td>0.465334</td>\n",
       "      <td>0.501578</td>\n",
       "      <td>1.132836</td>\n",
       "    </tr>\n",
       "    <tr>\n",
       "      <th>4</th>\n",
       "      <td>1</td>\n",
       "      <td>-0.351501</td>\n",
       "      <td>-0.213909</td>\n",
       "      <td>1.253981</td>\n",
       "      <td>0.046996</td>\n",
       "      <td>0.592490</td>\n",
       "      <td>-0.534944</td>\n",
       "      <td>0.714004</td>\n",
       "      <td>0.133146</td>\n",
       "      <td>-0.423687</td>\n",
       "    </tr>\n",
       "    <tr>\n",
       "      <th>5</th>\n",
       "      <td>1</td>\n",
       "      <td>0.105479</td>\n",
       "      <td>-0.699773</td>\n",
       "      <td>1.352986</td>\n",
       "      <td>-0.807389</td>\n",
       "      <td>1.093447</td>\n",
       "      <td>-0.789800</td>\n",
       "      <td>1.460016</td>\n",
       "      <td>-0.235286</td>\n",
       "      <td>0.773638</td>\n",
       "    </tr>\n",
       "    <tr>\n",
       "      <th>6</th>\n",
       "      <td>0</td>\n",
       "      <td>0.733825</td>\n",
       "      <td>0.401520</td>\n",
       "      <td>0.956966</td>\n",
       "      <td>-0.807389</td>\n",
       "      <td>0.706344</td>\n",
       "      <td>-0.534944</td>\n",
       "      <td>1.460016</td>\n",
       "      <td>0.685793</td>\n",
       "      <td>0.534173</td>\n",
       "    </tr>\n",
       "    <tr>\n",
       "      <th>7</th>\n",
       "      <td>1</td>\n",
       "      <td>0.591019</td>\n",
       "      <td>0.207174</td>\n",
       "      <td>1.427240</td>\n",
       "      <td>-0.522594</td>\n",
       "      <td>0.979593</td>\n",
       "      <td>-0.025233</td>\n",
       "      <td>0.962675</td>\n",
       "      <td>0.501578</td>\n",
       "      <td>0.893371</td>\n",
       "    </tr>\n",
       "    <tr>\n",
       "      <th>8</th>\n",
       "      <td>1</td>\n",
       "      <td>0.191162</td>\n",
       "      <td>-0.213909</td>\n",
       "      <td>1.179728</td>\n",
       "      <td>0.426723</td>\n",
       "      <td>0.911281</td>\n",
       "      <td>-0.025233</td>\n",
       "      <td>0.465334</td>\n",
       "      <td>0.133146</td>\n",
       "      <td>1.013103</td>\n",
       "    </tr>\n",
       "    <tr>\n",
       "      <th>9</th>\n",
       "      <td>1</td>\n",
       "      <td>-0.265817</td>\n",
       "      <td>0.336738</td>\n",
       "      <td>1.303484</td>\n",
       "      <td>-0.617526</td>\n",
       "      <td>0.569720</td>\n",
       "      <td>0.229622</td>\n",
       "      <td>0.216663</td>\n",
       "      <td>-0.235286</td>\n",
       "      <td>0.534173</td>\n",
       "    </tr>\n",
       "  </tbody>\n",
       "</table>\n",
       "</div>"
      ],
      "text/plain": [
       "   sex  len_head  width_skull  len_earconch  width_eye  len_foot  len_tail  \\\n",
       "0    0  0.391091     1.114121      1.575748   0.141928  1.389467 -0.534944   \n",
       "1    1 -0.065889     0.207174      0.758956   0.901381  0.934052 -0.280089   \n",
       "2    1  0.362530     0.984557      0.932215   0.426723  1.594404  0.994189   \n",
       "3    1  0.134040     0.045219      1.006469   0.141928  1.753799  0.484478   \n",
       "4    1 -0.351501    -0.213909      1.253981   0.046996  0.592490 -0.534944   \n",
       "5    1  0.105479    -0.699773      1.352986  -0.807389  1.093447 -0.789800   \n",
       "6    0  0.733825     0.401520      0.956966  -0.807389  0.706344 -0.534944   \n",
       "7    1  0.591019     0.207174      1.427240  -0.522594  0.979593 -0.025233   \n",
       "8    1  0.191162    -0.213909      1.179728   0.426723  0.911281 -0.025233   \n",
       "9    1 -0.265817     0.336738      1.303484  -0.617526  0.569720  0.229622   \n",
       "\n",
       "      chest     belly  len_total  \n",
       "0  0.465334  1.238441   0.414441  \n",
       "1  0.714004  0.133146   1.013103  \n",
       "2  1.460016  0.501578   1.970964  \n",
       "3  0.465334  0.501578   1.132836  \n",
       "4  0.714004  0.133146  -0.423687  \n",
       "5  1.460016 -0.235286   0.773638  \n",
       "6  1.460016  0.685793   0.534173  \n",
       "7  0.962675  0.501578   0.893371  \n",
       "8  0.465334  0.133146   1.013103  \n",
       "9  0.216663 -0.235286   0.534173  "
      ]
     },
     "execution_count": 24,
     "metadata": {},
     "output_type": "execute_result"
    }
   ],
   "source": [
    "# Define features and target variable\n",
    "possum_X = possum_data.drop(columns=['age'])  # Drop 'age' as it is the target variable\n",
    "possum_y = possum_data['age']\n",
    "\n",
    "# Standardize numerical features\n",
    "scaler3 = StandardScaler()\n",
    "\n",
    "possum_numeric = possum_X.drop(columns=['sex'])  # Separate numerical features\n",
    "possum_X_scaled = scaler3.fit_transform(possum_numeric)\n",
    "\n",
    "# Transform back to DataFrame\n",
    "possum_X_numeric = pd.DataFrame(possum_X_scaled, columns = possum_numeric.columns) \n",
    "\n",
    "# Concatenate binary feature ('sex') with the scaled features \n",
    "possum_X_prepared = pd.concat([possum_data['sex'], possum_X_numeric], axis = 1)\n",
    "\n",
    "possum_X_prepared.head(10)"
   ]
  },
  {
   "cell_type": "code",
   "execution_count": 25,
   "metadata": {},
   "outputs": [
    {
     "name": "stdout",
     "output_type": "stream",
     "text": [
      "X_train shape: (80, 10)\n",
      "X_test shape: (21, 10)\n",
      "y_train shape: (80,)\n",
      "y_test shape: (21,)\n"
     ]
    }
   ],
   "source": [
    "# Train-test  (80/20) split\n",
    "X_train, X_test, y_train, y_test = train_test_split(possum_X_prepared, possum_y, test_size = 0.2, random_state = 2003)\n",
    "\n",
    "# Check shapes of the data splits\n",
    "print(f\"X_train shape: {X_train.shape}\")\n",
    "print(f\"X_test shape: {X_test.shape}\")\n",
    "print(f\"y_train shape: {y_train.shape}\")\n",
    "print(f\"y_test shape: {y_test.shape}\")"
   ]
  },
  {
   "cell_type": "markdown",
   "metadata": {},
   "source": [
    "<font color = darkorange> First, I printed the possum data info to check if there are missing values and to check all the data types. No features have missing values (for the 101 entries, every feature has 101 non-null values). Also, every feature has a numerical data type (int64 or float64), which are suitable for regression. Then, I standardized the numeric features to ensure that they all have the same scale (with 0 mean and unit variance). Thus, every feature will have an equal contribution to the model.</font>"
   ]
  },
  {
   "cell_type": "markdown",
   "metadata": {},
   "source": [
    "------\n",
    "\n",
    "**4. C)**\n",
    "\n",
    "Regarding Ridge Regression, we'll focus on the hyperparameter called $\\lambda$ (lambda), the regularization term (or penalty term / L2 penalty).\n",
    "\n",
    "We will fit a ridge regression model with the whole training set to estimate the possums' ages. The hyperparameter $\\lambda$ will be set to 64. We will also evaluate the model performance using the test set and describe the results. For evaluating on the test set, a metric called mean absolute error (MAE) will be used."
   ]
  },
  {
   "cell_type": "code",
   "execution_count": 26,
   "metadata": {},
   "outputs": [
    {
     "name": "stdout",
     "output_type": "stream",
     "text": [
      "Mean Absolute Error = 1.25\n"
     ]
    }
   ],
   "source": [
    "## Code - Ridge regression\n",
    "\n",
    "from sklearn.metrics import mean_absolute_error\n",
    "\n",
    "# Ridge Regression model with lambda = 64\n",
    "# Ridge class and its methods from scikit-learn documentation: \n",
    "# https://scikit-learn.org/1.5/modules/generated/sklearn.linear_model.Ridge.html\n",
    "ridge_model = Ridge(alpha = 64)\n",
    "\n",
    "# Fit the model on the training set\n",
    "ridge_model.fit(X_train, y_train)\n",
    "\n",
    "# Evaluate using the test set\n",
    "y_pred = ridge_model.predict(X_test)\n",
    "\n",
    "# Calculate the mean absolute error (MAE)\n",
    "# from scikit-learn : https://scikit-learn.org/1.5/modules/generated/sklearn.metrics.mean_absolute_error.html\n",
    "mae = mean_absolute_error(y_test, y_pred)\n",
    "\n",
    "print(\"Mean Absolute Error =\", mae.round(2))"
   ]
  },
  {
   "cell_type": "markdown",
   "metadata": {},
   "source": [
    "<font color = darkorange> Mean absolute error is the average of the differences between the predicted values and the true values. In our case, the MAE of 1,25 means that the predictions of the possums' ages are off by about 1,25 years from their actual ages on average. From the pairplots, we can see that the possum ages range from 0 to 10 years. So, although the model can not be considered very precise, it still performs well on the dataset (the error is relatively small given the the total age range).</font>"
   ]
  },
  {
   "cell_type": "markdown",
   "metadata": {},
   "source": [
    "Now that we have fitted the regression model, let's break it down for better understanding. The model is essentially a linear regression model with an added regularization term (to deal with e.g. overfitting). We can write the equation used by the model to predict an opossum's age as:\n",
    "\n",
    "$$\n",
    "\\text{Predicted age} = w_1 \\times \\text{Sex} + w_2 \\times \\text{Head length} + w_3 \\times \\text{Skull width} + ... + w_{10} \\times \\text{Total length} + \\text{Bias}\n",
    "$$\n",
    "\n",
    "As mentioned earlier, regression focuses on the relationships between the features and the target variable. In the equation above, each feature contibutes a certain amount to the predicted age, based on the weight $w_i$ learned for that feature. For example, if the total length of an opossum has a large positive weight, it suggests that opossums with greater length are predicted to be older.\n",
    "\n",
    "We will access the necessary `Ridge` class attributes in order to write down the equation used by our fitted model. For example, the `coef_` variable contains the learned weights $w_1, ..., w_{10}$ and the `intercept_` variable holds the bias term. "
   ]
  },
  {
   "cell_type": "code",
   "execution_count": 27,
   "metadata": {},
   "outputs": [
    {
     "name": "stdout",
     "output_type": "stream",
     "text": [
      "Predicted age = 0.046*sex + 0.135*len_head + 0.055*width_skull + 0.005*len_earconch + 0.143*width_eye + -0.055*len_foot + -0.050*len_tail + 0.189*chest + 0.222*belly + 0.095*len_total + 3.866\n"
     ]
    }
   ],
   "source": [
    "coefficients = ridge_model.coef_ \n",
    "bias = ridge_model.intercept_ \n",
    "feature_names = possum_X.columns \n",
    "\n",
    "# Let's write the equation\n",
    "equation = 'Predicted age = '\n",
    "for i in range(len(coefficients)):\n",
    "    equation += f'{coefficients[i]:.3f}*{feature_names[i]} + '\n",
    "\n",
    "equation += f'{bias:.3f}'\n",
    "print(equation)"
   ]
  },
  {
   "cell_type": "markdown",
   "metadata": {},
   "source": [
    "________________\n",
    "## <font color = slategrey> 5. Feature selection - most useful features in predicting cardiovascular diseases </font>"
   ]
  },
  {
   "cell_type": "markdown",
   "metadata": {},
   "source": [
    "Lastly, we will return to the first dataset and try to identify <font color = slategrey>five [5] most useful features</font> for predicting the presence of the CVD. The steps needed for this job are the same as above, except for the feature selection part.\n",
    "\n",
    "Regarding the feature selection itself, we will use <font color = slategrey>Random Forest Classifier</font> and its built-in feature importance estimation in scikit-learn.\n",
    "\n",
    "We will evaluate the chosen model using accuracy and the area under the ROC curve (AUC), drawing the corresponding curve in a plot. In the end, we will also discuss the findings and results."
   ]
  },
  {
   "cell_type": "code",
   "execution_count": 28,
   "metadata": {},
   "outputs": [
    {
     "name": "stdout",
     "output_type": "stream",
     "text": [
      "Top 5 features for predicting the presence of the CVD: ['weight', 'ap_hi', 'age', 'height', 'sex']\n"
     ]
    }
   ],
   "source": [
    "from sklearn.ensemble import RandomForestClassifier\n",
    "\n",
    "# Train a Random Forest classifier on the training set\n",
    "# experimenting with different values for max_depth and min_samples_split\n",
    "# information from scikit-learn documentation: \n",
    "# https://scikit-learn.org/stable/modules/generated/sklearn.ensemble.RandomForestClassifier.html\n",
    "clf = RandomForestClassifier(max_depth = 10, min_samples_split = 5, random_state = 2003)\n",
    "clf.fit(data_train, y_train_cvd)\n",
    "\n",
    "# Compute feature importances and select the 5 most useful features\n",
    "# using the Random Forest classifier's built-in feature importance estimation in scikit-learn\n",
    "feature_importances = clf.feature_importances_\n",
    "\n",
    "# sorting the features first in ascending order\n",
    "ascending_indices = feature_importances.argsort()\n",
    "\n",
    "# then apply slicing to reverse these ascending indices\n",
    "descending_indices = ascending_indices[::-1]\n",
    "# infromation from: https://www.geeksforgeeks.org/how-to-use-numpy-argsort-in-descending-order-in-python/\n",
    "\n",
    "# Select the 5 most useful features\n",
    "# using the indices corresponding to the features in descending order of the importance\n",
    "features_selected = data.columns[descending_indices[0:5]]\n",
    "\n",
    "print(\"Top 5 features for predicting the presence of the CVD:\", list(features_selected))"
   ]
  },
  {
   "cell_type": "code",
   "execution_count": 29,
   "metadata": {},
   "outputs": [
    {
     "name": "stdout",
     "output_type": "stream",
     "text": [
      "Area under the ROC curve (AUC) using predict(): 0.638\n",
      "Area under the ROC curve (AUC) using predict_proba(): 0.756\n"
     ]
    }
   ],
   "source": [
    "from sklearn.metrics import accuracy_score, roc_auc_score\n",
    "\n",
    "# Create new datasets with only the 5 most useful features\n",
    "X_train_selected = data_train[features_selected]\n",
    "X_test_selected = data_test[features_selected]\n",
    "\n",
    "# Train another Random Forest classifier (with only the top 5 features)\n",
    "clf2 = RandomForestClassifier(max_depth = 10, min_samples_split = 5, random_state = 2003)\n",
    "clf2.fit(X_train_selected, y_train_cvd)\n",
    "\n",
    "# Predict using both predict() and predict_proba() functions\n",
    "y_predict = clf2.predict(X_test_selected)\n",
    "y_predict_proba = clf2.predict_proba(X_test_selected)[:, 1]\n",
    "\n",
    "# Evaluate the model using roc_auc_score\n",
    "auc1 = roc_auc_score(y_test_cvd, y_predict)\n",
    "auc2 = roc_auc_score(y_test_cvd, y_predict_proba)\n",
    "\n",
    "print(\"Area under the ROC curve (AUC) using predict():\", auc1.round(3))\n",
    "print(\"Area under the ROC curve (AUC) using predict_proba():\", auc2.round(3))"
   ]
  },
  {
   "cell_type": "code",
   "execution_count": 30,
   "metadata": {},
   "outputs": [
    {
     "data": {
      "image/png": "[encoded data removed]",
      "text/plain": [
       "<Figure size 640x480 with 1 Axes>"
      ]
     },
     "metadata": {},
     "output_type": "display_data"
    }
   ],
   "source": [
    "from sklearn.metrics import RocCurveDisplay\n",
    "\n",
    "# Plot ROC Curve using RocCurveDisplay class and its methods from scikit-learn documentation:\n",
    "# https://scikit-learn.org/1.5/modules/generated/sklearn.metrics.RocCurveDisplay.html#\n",
    "\n",
    "RocCurveDisplay.from_predictions(y_test_cvd, y_predict_proba)\n",
    "plt.title(\"ROC-AUC Curve\")\n",
    "plt.legend()\n",
    "plt.show()"
   ]
  },
  {
   "cell_type": "markdown",
   "metadata": {},
   "source": [
    "<font color = slategrey> Random Forest is an estimator that fits multiple decision tree classifiers on the dataset and combines their predictions to improve the accuracy and control over-fitting. (explanation from https://scikit-learn.org/stable/modules/generated/sklearn.ensemble.RandomForestClassifier.html). The model selects features that are relevant in predicting CVD by assigning every feature an importance score, which shows how much each one contributes to building an accurate model. </font>\n",
    "\n",
    "<font color = slategrey> The ROC-AUC Curve shows the True Positive Rate against the False Postive Rate of the predictions (so, the further it is from the main diagonal towards the top-left corner, the better the model). The model obtained with feature selection has a good score of 0,76. </font>\n",
    "\n",
    "<font color = slategrey> The predict() method is used to predict a category for a set of input features. It returns a discrete value that can be directly assigned to each input feature. On the other hand, the predict_proba() method returns the predicted probabilities of the input features belonging to each category. The method, instead of returning a discrete class, returns the probabilities associated with each class. (information from: https://www.educative.io/answers/difference-between-predict-and-predictproba-in-sklearn).</font>\n",
    "\n",
    "<font color = slategrey> In order to calculate the AUC, continuous scores (e.g., probabilities) are required, not just predictions. This is because AUC evaluates the model's ability to differentiate between classes by computing the True Positive Rate and False Positive Rate at various thresholds (between 0 and 1, seen on the axes of the plot). Thus, predict(), which has a binary output based on a fixed threshold (0,5) and does not return the probabilities, is not suitable for AUC analysis. </font>"
   ]
  }
 ],
 "metadata": {
  "colab": {
   "name": "DADK2020_ex3_Valtteri_Nieminen.ipynb",
   "provenance": []
  },
  "kernelspec": {
   "display_name": "Python 3 (ipykernel)",
   "language": "python",
   "name": "python3"
  },
  "language_info": {
   "codemirror_mode": {
    "name": "ipython",
    "version": 3
   },
   "file_extension": ".py",
   "mimetype": "text/x-python",
   "name": "python",
   "nbconvert_exporter": "python",
   "pygments_lexer": "ipython3",
   "version": "3.12.6"
  },
  "toc": {
   "base_numbering": 1,
   "nav_menu": {
    "height": "180px",
    "width": "160px"
   },
   "number_sections": true,
   "sideBar": true,
   "skip_h1_title": true,
   "title_cell": "Table of Contents",
   "title_sidebar": "Contents",
   "toc_cell": false,
   "toc_position": {},
   "toc_section_display": true,
   "toc_window_display": false
  }
 },
 "nbformat": 4,
 "nbformat_minor": 4
}
